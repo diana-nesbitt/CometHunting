{
 "cells": [
  {
   "cell_type": "code",
   "execution_count": null,
   "id": "81ff0ba4",
   "metadata": {},
   "outputs": [],
   "source": [
    "import numpy as np\n",
    "import scipy\n",
    "import matplotlib.pyplot as plt \n",
    "import matplotlib.image as mpimg\n",
    "from scipy.ndimage import label\n",
    "import scipy.ndimage.measurements\n",
    "import os\n",
    "import pandas as pd"
   ]
  },
  {
   "cell_type": "code",
   "execution_count": null,
   "id": "e2c8192f",
   "metadata": {},
   "outputs": [],
   "source": [
    "def rgb2gray(rgb):\n",
    "    return np.dot(rgb[...,:3], [0.2989, 0.5870, 0.1140])"
   ]
  },
  {
   "cell_type": "code",
   "execution_count": null,
   "id": "37e82044",
   "metadata": {},
   "outputs": [],
   "source": [
    "def plotblackwhite(image):\n",
    "    imgplt=plt.imshow(image, cmap=\"gray\")\n",
    "    plt.colorbar()\n",
    "    plt.show()\n",
    "    #plt.savefig(\"soho1264_070205_1742_2_BW_RGB.png\", dpi=1000)"
   ]
  },
  {
   "cell_type": "code",
   "execution_count": null,
   "id": "9a38170c",
   "metadata": {},
   "outputs": [],
   "source": [
    "def plotbwr(diff):\n",
    "    imgplot=plt.imshow(diff, cmap=\"bwr\")\n",
    "    plt.colorbar()\n",
    "    imgplot.set_clim(-255,255)\n",
    "    plt.show()\n",
    "    #plt.savefig(\"soho1264_070205_1718_DIFF_1742_3_BWR.png\", dpi=1000)"
   ]
  },
  {
   "cell_type": "code",
   "execution_count": null,
   "id": "ef85b4ce",
   "metadata": {},
   "outputs": [],
   "source": [
    "def plotblodges(l):\n",
    "    imgplt=plt.imshow(l)\n",
    "    imgplt.set_clim(0,11)\n",
    "    imgplt.set_cmap(\"gray\")\n",
    "    plt.colorbar()\n",
    "    plt.show()"
   ]
  },
  {
   "cell_type": "code",
   "execution_count": null,
   "id": "5895bd8d",
   "metadata": {},
   "outputs": [],
   "source": [
    "filename1 = \"full_soho1264_070205_1718.gif\"\n",
    "filename2 = \"full_soho1264_070205_1742.gif\""
   ]
  },
  {
   "cell_type": "code",
   "execution_count": null,
   "id": "740266d3",
   "metadata": {
    "scrolled": false
   },
   "outputs": [],
   "source": [
    "def CommonPhenomenaFinder(filename1, filename2): \n",
    "    \n",
    "    rgb_image1=mpimg.imread(filename1)\n",
    "    image1 = rgb2gray(rgb_image1)\n",
    "\n",
    "    rgb_image2=mpimg.imread(filename2)\n",
    "    image2 = rgb2gray(rgb_image2)\n",
    "    \n",
    "    #plotblackwhite(image1)\n",
    "    #plotblackwhite(image2)\n",
    "\n",
    "    diff=np.subtract(image2,image1) # subtract image1 from image2\n",
    "\n",
    "    #plotbwr(diff)\n",
    "\n",
    "    x=diff[824:924,50:150].astype(int) #zoom in\n",
    "    d1=np.where(x<-50, x, 0)   # identify bright blue pixels\n",
    "    d2=np.where(x>50, x, 0) # identify bright red pixels\n",
    "\n",
    "    #plotbwr(d1+d2)\n",
    "\n",
    "    l1, n1 = label(d1, scipy.ones((3,3)))\n",
    "    l2, n2 = label(d2, scipy.ones((3,3)))\n",
    "\n",
    "    #plotblodges(l1)\n",
    "    #plotblodges(l2)\n",
    "\n",
    "    pairs=list()\n",
    "\n",
    "    centres1=scipy.ndimage.measurements.center_of_mass(d1,l1,range(1,n1+1))\n",
    "    centres2=scipy.ndimage.measurements.center_of_mass(d2,l2,range(1,n2+1))\n",
    "\n",
    "    for c1 in centres1:\n",
    "       for c2 in centres2:\n",
    "          if (c1[0]-c2[0])**2 + (c1[1]-c2[1])**2 < 10*10: # if blob is inside search radius of 10 pixels\n",
    "             pairs.append((c1,c2)) # add centres to pairs list\n",
    "    #print(len(pairs))\n",
    "\n",
    "    imgplt=plt.imshow(d1+d2) # display image\n",
    "    imgplt.set_clim(-255,255)\n",
    "    imgplt.set_cmap(\"bwr\")   # using gray colourscale\n",
    "    plt.colorbar()  # adds a colourbar\n",
    "    xs = [x[0][1] for x in pairs]\n",
    "    ys = [x[0][0] for x in pairs]\n",
    "    plt.scatter(xs, ys, marker='x', color='blue')\n",
    "    xs_ = [x[1][1] for x in pairs]\n",
    "    ys_ = [x[1][0] for x in pairs]\n",
    "    plt.scatter(xs_, ys_, marker='x', color='red')\n",
    "    plt.show()"
   ]
  },
  {
   "cell_type": "code",
   "execution_count": null,
   "id": "89b89847",
   "metadata": {},
   "outputs": [],
   "source": [
    "CommonPhenomenaFinder(filename1, filename2)"
   ]
  }
 ],
 "metadata": {
  "kernelspec": {
   "display_name": "Python 3 (ipykernel)",
   "language": "python",
   "name": "python3"
  },
  "language_info": {
   "codemirror_mode": {
    "name": "ipython",
    "version": 3
   },
   "file_extension": ".py",
   "mimetype": "text/x-python",
   "name": "python",
   "nbconvert_exporter": "python",
   "pygments_lexer": "ipython3",
   "version": "3.9.13"
  }
 },
 "nbformat": 4,
 "nbformat_minor": 5
}
